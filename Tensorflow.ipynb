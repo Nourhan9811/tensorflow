{
 "cells": [
  {
   "cell_type": "code",
   "execution_count": 7,
   "metadata": {},
   "outputs": [],
   "source": [
    "import tensorflow as tf\n",
    "import numpy as np"
   ]
  },
  {
   "cell_type": "code",
   "execution_count": 8,
   "metadata": {},
   "outputs": [],
   "source": [
    "N,D,H =64,1000,100\n",
    "\n",
    "\n",
    "x=tf.placeholder (tf.float32 ,shape=(N,D))\n",
    "y=tf.placeholder (tf.float32 ,shape=(N,D))\n",
    "w1=tf.placeholder (tf.float32 ,shape=(D,H))\n",
    "w2=tf.placeholder (tf.float32 ,shape=(H,D))\n"
   ]
  },
  {
   "cell_type": "code",
   "execution_count": 9,
   "metadata": {},
   "outputs": [],
   "source": [
    "h = tf.maximum (tf.matmul(x,w1), 0)\n",
    "y_pred = tf.matmul(h,w2)\n",
    "diff=y_pred -y\n",
    "loss= tf.reduce_mean(tf.reduce_sum(diff ** 2 , axis=1))\n",
    "grad_w1 , grad_w2 = tf.gradients(loss,[w1,w2])"
   ]
  },
  {
   "cell_type": "code",
   "execution_count": 10,
   "metadata": {},
   "outputs": [
    {
     "name": "stdout",
     "output_type": "stream",
     "text": [
      "[46261828.0, array([[  2384.2385  ,   -940.6771  ,  -4089.6973  , ...,  -4420.4775  ,\n",
      "          1044.4529  ,   2958.9246  ],\n",
      "       [  5432.965   ,    139.19449 ,  -2759.5962  , ...,  -3053.6338  ,\n",
      "         -3726.3086  ,  -4828.568   ],\n",
      "       [ -8205.122   ,   2118.4766  ,   3929.9116  , ...,  -3729.9592  ,\n",
      "         -6972.1167  ,    458.6303  ],\n",
      "       ...,\n",
      "       [ -5235.8833  , -11219.964   ,  -5924.3877  , ...,   2369.7139  ,\n",
      "         -3712.799   ,    -50.059937],\n",
      "       [   -57.649075,   1403.0647  ,   3878.0403  , ...,  -1019.63934 ,\n",
      "         -2217.2002  ,  -1684.5254  ],\n",
      "       [  -250.55927 ,   6345.299   ,    -42.033264, ...,   4798.599   ,\n",
      "          1705.3787  ,   -867.788   ]], dtype=float32), array([[ 2651.6353  ,  -458.0803  ,  2443.6228  , ...,  7957.7407  ,\n",
      "        -2069.8716  , -2360.0537  ],\n",
      "       [  860.60223 ,  -830.30176 ,   416.81073 , ...,  4935.686   ,\n",
      "        -2079.9768  , -1581.9862  ],\n",
      "       [ 1136.3687  , -1766.2523  ,  -267.68097 , ...,  4231.205   ,\n",
      "        -1059.219   ,  1202.5826  ],\n",
      "       ...,\n",
      "       [  331.0871  , -1767.3433  ,   504.26016 , ...,  5583.8047  ,\n",
      "        -3227.8704  ,   570.2752  ],\n",
      "       [  117.880226, -1439.2914  ,   944.6612  , ...,  4475.9893  ,\n",
      "        -2703.4644  ,  2464.7354  ],\n",
      "       [ 1524.7115  , -1639.384   ,   253.35922 , ...,  4876.395   ,\n",
      "        -3014.4805  ,  -203.61443 ]], dtype=float32)]\n"
     ]
    }
   ],
   "source": [
    "with tf.Session() as sess:\n",
    "    values = { x: np.random.randn(N,D),\n",
    "              w1: np.random.randn(D,H),\n",
    "              w2: np.random.randn(H,D),\n",
    "              y:np.random.randn(N,D),}\n",
    "    out=sess.run([loss ,grad_w1 ,grad_w2],\n",
    "                 feed_dict=values)\n",
    "    loss_val ,grad_w1_val ,grad_w2_val = out\n",
    "    print (out)"
   ]
  },
  {
   "cell_type": "code",
   "execution_count": 11,
   "metadata": {},
   "outputs": [
    {
     "name": "stdout",
     "output_type": "stream",
     "text": [
      "[1018.8389, array([[-3.2811184 ,  2.8081007 ,  0.06117368, ..., -0.84839165,\n",
      "        -0.2775085 ,  0.29026598],\n",
      "       [-1.114028  ,  5.013642  , -1.3022919 , ..., -0.2575749 ,\n",
      "         7.056855  ,  8.538004  ],\n",
      "       [ 2.2179387 ,  2.6154537 ,  2.6504138 , ...,  0.8980241 ,\n",
      "         2.8844995 ,  3.091039  ],\n",
      "       ...,\n",
      "       [-6.916009  ,  1.1928955 , -1.5260065 , ..., -0.45433643,\n",
      "        -0.30652142, -1.9991367 ],\n",
      "       [-1.0610486 , -4.448305  , -2.5632987 , ...,  3.9183192 ,\n",
      "         2.8489366 ,  2.4425828 ],\n",
      "       [ 1.8275595 , -0.41957787,  3.733038  , ...,  0.9391434 ,\n",
      "         3.3115458 ,  2.5261326 ]], dtype=float32), array([[ 0.01943446,  0.01483008, -0.00685321, ..., -0.00687408,\n",
      "         0.01932394, -0.02125652],\n",
      "       [ 0.01603888,  0.00319067, -0.0041438 , ...,  0.00576936,\n",
      "         0.01659986,  0.01579026],\n",
      "       [ 0.0126483 ,  0.01316492, -0.00527457, ...,  0.00632675,\n",
      "         0.01625863, -0.0199022 ],\n",
      "       ...,\n",
      "       [ 0.01548804,  0.0329767 ,  0.02389436, ...,  0.0086909 ,\n",
      "         0.00059814, -0.00459094],\n",
      "       [ 0.00019459,  0.00889132, -0.01313378, ...,  0.01530906,\n",
      "         0.01203902, -0.01361221],\n",
      "       [-0.00304196,  0.01681461, -0.00395923, ...,  0.01586543,\n",
      "         0.01080871, -0.00882119]], dtype=float32)]\n"
     ]
    }
   ],
   "source": [
    "with tf.Session() as sess:\n",
    "    values = { x: np.random.randn(N,D),\n",
    "              w1: np.random.randn(D,H),\n",
    "              w2: np.random.randn(H,D),\n",
    "              y:np.random.randn(N,D),}\n",
    "    learning_rate = 1e-5\n",
    "    for t in range (50):\n",
    "        out=sess.run([loss ,grad_w1 ,grad_w2],\n",
    "                     feed_dict=values)\n",
    "        loss_val ,grad_w1_val ,grad_w2_val = out\n",
    "        values[w1] -=learning_rate * grad_w1_val\n",
    "        values[w2] -=learning_rate * grad_w2_val\n",
    "\n",
    "print (out)"
   ]
  },
  {
   "cell_type": "code",
   "execution_count": 12,
   "metadata": {},
   "outputs": [],
   "source": [
    "import tensorflow as tf\n",
    "import numpy as np\n",
    "import matplotlib.pyplot as plt"
   ]
  },
  {
   "cell_type": "code",
   "execution_count": 13,
   "metadata": {},
   "outputs": [],
   "source": [
    "N,D,H=64,1000,100\n",
    "\n",
    "x=tf.placeholder(tf.float64,shape=(N,D))\n",
    "y=tf.placeholder(tf.float64,shape=(N,D))\n",
    "w1=tf.placeholder(tf.float64,shape=(D,H))\n",
    "w2=tf.placeholder(tf.float64,shape=(H,D))"
   ]
  },
  {
   "cell_type": "code",
   "execution_count": 14,
   "metadata": {},
   "outputs": [],
   "source": [
    "h=tf.maximum(tf.matmul(x,w1),0)\n",
    "y_pred=tf.matmul(h,w2)\n",
    "diff=y_pred-y\n",
    "loss=tf.reduce_mean(tf.reduce_sum(diff**2,axis=1))\n",
    "grad_w1,grad_w2=tf.gradients(loss,[w1,w2])"
   ]
  },
  {
   "cell_type": "code",
   "execution_count": 15,
   "metadata": {},
   "outputs": [
    {
     "name": "stdout",
     "output_type": "stream",
     "text": [
      "[48939854.05151661, array([[-5646.24136479,  1663.15519514, -2538.98660838, ...,\n",
      "        -4327.31677763,  1788.75212194,   344.32387555],\n",
      "       [-3882.77120535, -6062.18927132, -9614.48071614, ...,\n",
      "        -4794.08170373, -9052.40828482,   553.83710586],\n",
      "       [  507.85771527,  -721.68341529,  7296.99725157, ...,\n",
      "         2623.43769646, -5000.85467995,  5874.48425186],\n",
      "       ...,\n",
      "       [  353.45636385,  4556.031432  ,  6866.36632562, ...,\n",
      "         5804.8890962 ,  8573.61158938,  5584.51306237],\n",
      "       [ 3340.4768395 , -2642.36202074, -6774.57667849, ...,\n",
      "        -6283.76966402,  4297.59927923, -2103.04366194],\n",
      "       [ -998.62230357,  3849.46643363,  7641.45176327, ...,\n",
      "         5881.37050509,  1470.47788884,  3224.60412176]]), array([[-5081.30883051,  -991.08754705,  4070.98841547, ...,\n",
      "          259.07378884,  1339.56596978,  -796.89203597],\n",
      "       [-2244.39144793, -1174.09461531,  1253.7774023 , ...,\n",
      "          457.84442961,   103.80591479,  2352.95308178],\n",
      "       [-3292.15662359, -2122.86457238,  3945.0964766 , ...,\n",
      "         1259.53841927, -1579.08881917,   873.11472709],\n",
      "       ...,\n",
      "       [-2289.98264553, -2200.45139223,  5180.79594518, ...,\n",
      "          379.95237986,   501.8659421 ,  1472.935911  ],\n",
      "       [-1609.52860991, -2776.51889877,  3256.56591017, ...,\n",
      "          912.30489838, -1819.40922683,  1937.06426887],\n",
      "       [-3963.46361425, -3889.32909482,   860.45748743, ...,\n",
      "          -82.51072117,   626.19263932,  4744.14698316]])]\n"
     ]
    },
    {
     "data": {
      "image/png": "[encoded data removed]",
      "text/plain": [
       "<Figure size 432x288 with 1 Axes>"
      ]
     },
     "metadata": {
      "needs_background": "light"
     },
     "output_type": "display_data"
    },
    {
     "name": "stdout",
     "output_type": "stream",
     "text": [
      "48939854.05151661 1003.0405419246191\n"
     ]
    }
   ],
   "source": [
    "with tf.Session() as sess:\n",
    "    values={x:np.random.randn(N,D),\n",
    "            y:np.random.randn(N,D),\n",
    "            w1:np.random.randn(D,H),\n",
    "            w2:np.random.randn(H,D),}\n",
    "    out=sess.run([loss,grad_w1,grad_w2],feed_dict=values)\n",
    "    loss_val,grad_w1_val,grad_w2_val=out\n",
    "    print(out)\n",
    "    loss_summary=[]\n",
    "    steps=500\n",
    "    learning_rate=1e-5\n",
    "    for t in range(50):\n",
    "        out=sess.run([loss,grad_w1,grad_w2],feed_dict=values)\n",
    "        loss_val,grad_w1_val,grad_w2_val=out\n",
    "        values[w1]-=learning_rate*grad_w1_val\n",
    "        values[w2]-=learning_rate*grad_w2_val\n",
    "        loss_summary.append(loss_val)\n",
    "    plt.plot(range(50),loss_summary,'g-',label='loss_value')\n",
    "    plt.show()\n",
    "    print(loss_summary[0],loss_summary[50-1])\n",
    "    "
   ]
  },
  {
   "cell_type": "code",
   "execution_count": 16,
   "metadata": {},
   "outputs": [],
   "source": [
    "import tensorflow as tf\n",
    "import matplotlib.pyplot as plt\n",
    "import numpy as np"
   ]
  },
  {
   "cell_type": "code",
   "execution_count": 17,
   "metadata": {},
   "outputs": [],
   "source": [
    "N,D,H=64,1000,100\n",
    "\n",
    "x=tf.placeholder(tf.float32,shape=(N,D))\n",
    "y=tf.placeholder(tf.float32,shape=(N,D))\n",
    "w1=tf.Variable(tf.random_normal((D,H)))\n",
    "w2=tf.Variable(tf.random_normal((H,D)))\n"
   ]
  },
  {
   "cell_type": "code",
   "execution_count": 18,
   "metadata": {},
   "outputs": [],
   "source": [
    "h=tf.maximum(tf.matmul(x,w1),0)\n",
    "y_pred=tf.matmul(h,w2)\n",
    "diff=y_pred-y\n",
    "\n",
    "loss=tf.reduce_mean(tf.reduce_sum(diff**2,axis=1))\n",
    "\n",
    "grad_w1,grad_w2=tf.gradients(loss,[w1,w2])\n",
    "learning_rate=1e-5\n",
    "new_w1=w1.assign(w1-learning_rate*grad_w1)\n",
    "new_w2=w2.assign(w2-learning_rate*grad_w2)\n"
   ]
  },
  {
   "cell_type": "code",
   "execution_count": 19,
   "metadata": {},
   "outputs": [
    {
     "name": "stdout",
     "output_type": "stream",
     "text": [
      "[49979236.0]\n",
      "[49979236.0]\n",
      "[49979236.0]\n",
      "[49979236.0]\n",
      "[49979236.0]\n",
      "[49979236.0]\n",
      "[49979236.0]\n",
      "[49979236.0]\n",
      "[49979236.0]\n",
      "[49979236.0]\n",
      "[49979236.0]\n",
      "[49979236.0]\n",
      "[49979236.0]\n",
      "[49979236.0]\n",
      "[49979236.0]\n",
      "[49979236.0]\n",
      "[49979236.0]\n",
      "[49979236.0]\n",
      "[49979236.0]\n",
      "[49979236.0]\n",
      "[49979236.0]\n",
      "[49979236.0]\n",
      "[49979236.0]\n",
      "[49979236.0]\n",
      "[49979236.0]\n",
      "[49979236.0]\n",
      "[49979236.0]\n",
      "[49979236.0]\n",
      "[49979236.0]\n",
      "[49979236.0]\n",
      "[49979236.0]\n",
      "[49979236.0]\n",
      "[49979236.0]\n",
      "[49979236.0]\n",
      "[49979236.0]\n",
      "[49979236.0]\n",
      "[49979236.0]\n",
      "[49979236.0]\n",
      "[49979236.0]\n",
      "[49979236.0]\n",
      "[49979236.0]\n",
      "[49979236.0]\n",
      "[49979236.0]\n",
      "[49979236.0]\n",
      "[49979236.0]\n",
      "[49979236.0]\n",
      "[49979236.0]\n",
      "[49979236.0]\n",
      "[49979236.0]\n",
      "[49979236.0]\n"
     ]
    },
    {
     "data": {
      "image/png": "[encoded data removed]",
      "text/plain": [
       "<Figure size 432x288 with 1 Axes>"
      ]
     },
     "metadata": {
      "needs_background": "light"
     },
     "output_type": "display_data"
    },
    {
     "name": "stdout",
     "output_type": "stream",
     "text": [
      "[49979236.0] [49979236.0]\n"
     ]
    }
   ],
   "source": [
    "with tf.Session() as sess:\n",
    "    sess.run(tf.global_variables_initializer())\n",
    "    values={x:np.random.randn(N,D),\n",
    "            y:np.random.randn(N,D),}\n",
    "    loss_summary=[]\n",
    "    \n",
    "    for t in range(50):\n",
    "        out=sess.run([loss],feed_dict=values)\n",
    "        loss_val=out\n",
    "        loss_summary.append(loss_val)\n",
    "        print(out)\n",
    "    plt.plot(range(50),loss_summary,'g-',label='loss_value')\n",
    "    plt.show()\n",
    "    print(loss_summary[0],loss_summary[50-1])\n",
    "    "
   ]
  },
  {
   "cell_type": "code",
   "execution_count": 20,
   "metadata": {},
   "outputs": [],
   "source": [
    "import tensorflow as tf\n",
    "import matplotlib.pyplot as plt"
   ]
  },
  {
   "cell_type": "code",
   "execution_count": 21,
   "metadata": {},
   "outputs": [],
   "source": [
    "N,D,H=64,1000,100\n",
    "\n",
    "x=tf.placeholder(tf.float32,shape=(N,D))\n",
    "y=tf.placeholder(tf.float32,shape=(N,D))\n",
    "w1=tf.Variable(tf.random_normal((D,H)))\n",
    "w2=tf.Variable(tf.random_normal((H,D)))\n"
   ]
  },
  {
   "cell_type": "code",
   "execution_count": 22,
   "metadata": {},
   "outputs": [],
   "source": [
    "h=tf.maximum(tf.matmul(x,w1),0)\n",
    "y_pred=tf.matmul(h,w2)\n",
    "diff=y_pred-y\n",
    "loss=tf.reduce_mean(tf.reduce_sum(diff**2,axis=1))\n",
    "\n",
    "grad_w1,grad_w2=tf.gradients(loss,[w1,w2])\n",
    "learning_rate=1e-5\n",
    "new_w1=w1.assign(w1-learning_rate*grad_w1)\n",
    "new_w2=w2.assign(w2-learning_rate*grad_w2)\n",
    "updates=tf.group(new_w1,new_w2)\n"
   ]
  },
  {
   "cell_type": "code",
   "execution_count": 23,
   "metadata": {},
   "outputs": [
    {
     "name": "stdout",
     "output_type": "stream",
     "text": [
      "[48879410.0, None]\n",
      "[18034772.0, None]\n",
      "[9691337.0, None]\n",
      "[5754988.0, None]\n",
      "[3651972.0, None]\n",
      "[2435625.5, None]\n",
      "[1674211.9, None]\n",
      "[1181051.9, None]\n",
      "[849124.56, None]\n",
      "[620087.9, None]\n",
      "[458499.5, None]\n",
      "[342666.88, None]\n",
      "[258372.1, None]\n",
      "[196216.88, None]\n",
      "[149939.16, None]\n",
      "[115206.125, None]\n",
      "[88983.516, None]\n",
      "[69099.63, None]\n",
      "[53943.344, None]\n",
      "[42301.336, None]\n",
      "[33322.2, None]\n",
      "[26367.434, None]\n",
      "[20957.2, None]\n",
      "[16717.738, None]\n",
      "[13409.526, None]\n",
      "[10817.804, None]\n",
      "[8777.185, None]\n",
      "[7171.436, None]\n",
      "[5904.129, None]\n",
      "[4901.369, None]\n",
      "[4106.0674, None]\n",
      "[3473.8691, None]\n",
      "[2970.9565, None]\n",
      "[2570.1118, None]\n",
      "[2250.1855, None]\n",
      "[1994.4089, None]\n",
      "[1789.7489, None]\n",
      "[1625.8052, None]\n",
      "[1494.342, None]\n",
      "[1388.7874, None]\n",
      "[1304.0029, None]\n",
      "[1235.8564, None]\n",
      "[1181.0942, None]\n",
      "[1137.1548, None]\n",
      "[1101.8286, None]\n",
      "[1073.443, None]\n",
      "[1050.6008, None]\n",
      "[1032.252, None]\n",
      "[1017.5331, None]\n",
      "[1005.7197, None]\n"
     ]
    },
    {
     "data": {
      "image/png": "[encoded data removed]",
      "text/plain": [
       "<Figure size 432x288 with 1 Axes>"
      ]
     },
     "metadata": {
      "needs_background": "light"
     },
     "output_type": "display_data"
    },
    {
     "name": "stdout",
     "output_type": "stream",
     "text": [
      "[48879410.0, None] [1005.7197, None]\n"
     ]
    }
   ],
   "source": [
    "with tf.Session() as sess:\n",
    "    sess.run(tf.global_variables_initializer())\n",
    "    values={x:np.random.randn(N,D),\n",
    "            y:np.random.randn(N,D),}\n",
    "    loss_summary=[]\n",
    "    for t in range(50):\n",
    "        out=sess.run([loss,updates],feed_dict=values)\n",
    "        loss_val=out\n",
    "        print(out)\n",
    "        loss_summary.append(loss_val)\n",
    "    plt.plot(range(50),loss_summary,'g-',label='loss_value')\n",
    "    plt.show()\n",
    "    print(loss_summary[0],loss_summary[50-1])\n",
    "    "
   ]
  },
  {
   "cell_type": "code",
   "execution_count": 24,
   "metadata": {},
   "outputs": [],
   "source": [
    "N,D,H=64,1000,100\n",
    "\n",
    "x=tf.placeholder(tf.float32,shape=(N,D))\n",
    "y=tf.placeholder(tf.float32,shape=(N,D))\n",
    "w1=tf.Variable(tf.random_normal((D,H)))\n",
    "w2=tf.Variable(tf.random_normal((H,D)))"
   ]
  },
  {
   "cell_type": "code",
   "execution_count": 25,
   "metadata": {},
   "outputs": [],
   "source": [
    "h=tf.maximum(tf.matmul(x,w1),0)\n",
    "y_pred=tf.matmul(h,w2)\n",
    "diff=y_pred-y\n",
    "loss=tf.reduce_mean(tf.reduce_sum(diff**2,axis=1))\n",
    "\n",
    "optimizer=tf.train.GradientDescentOptimizer(1e-5)\n",
    "updates=optimizer.minimize(loss)\n"
   ]
  },
  {
   "cell_type": "code",
   "execution_count": 26,
   "metadata": {},
   "outputs": [
    {
     "name": "stdout",
     "output_type": "stream",
     "text": [
      "[47299050.0, None]\n",
      "[16632202.0, None]\n",
      "[8645334.0, None]\n",
      "[5011257.0, None]\n",
      "[3099397.0, None]\n",
      "[2003956.2, None]\n",
      "[1338661.9, None]\n",
      "[916142.5, None]\n",
      "[638340.9, None]\n",
      "[451678.97, None]\n",
      "[323749.28, None]\n",
      "[234539.16, None]\n",
      "[171456.38, None]\n",
      "[126304.69, None]\n",
      "[93685.84, None]\n",
      "[69917.55, None]\n",
      "[52476.547, None]\n",
      "[39599.65, None]\n",
      "[30050.691, None]\n",
      "[22932.984, None]\n",
      "[17604.43, None]\n",
      "[13599.247, None]\n",
      "[10580.644, None]\n",
      "[8298.656, None]\n",
      "[6568.3545, None]\n",
      "[5253.2925, None]\n",
      "[4251.4106, None]\n",
      "[3485.0793, None]\n",
      "[2900.8196, None]\n",
      "[2454.066, None]\n",
      "[2111.8696, None]\n",
      "[1849.2682, None]\n",
      "[1647.5281, None]\n",
      "[1492.3275, None]\n",
      "[1372.8635, None]\n",
      "[1280.876, None]\n",
      "[1210.0269, None]\n",
      "[1155.4368, None]\n",
      "[1113.3699, None]\n",
      "[1080.9539, None]\n",
      "[1056.0349, None]\n",
      "[1036.8748, None]\n",
      "[1022.13824, None]\n",
      "[1010.8941, None]\n",
      "[1002.3617, None]\n",
      "[995.8718, None]\n",
      "[990.95276, None]\n",
      "[987.2287, None]\n",
      "[984.4369, None]\n",
      "[982.3505, None]\n"
     ]
    },
    {
     "data": {
      "image/png": "[encoded data removed]",
      "text/plain": [
       "<Figure size 432x288 with 1 Axes>"
      ]
     },
     "metadata": {
      "needs_background": "light"
     },
     "output_type": "display_data"
    },
    {
     "name": "stdout",
     "output_type": "stream",
     "text": [
      "[47299050.0, None] [982.3505, None]\n"
     ]
    }
   ],
   "source": [
    "with tf.Session() as sess:\n",
    "    sess.run(tf.global_variables_initializer())\n",
    "    values={x:np.random.randn(N,D),\n",
    "            y:np.random.randn(N,D),}\n",
    "    loss_summary=[]\n",
    "    \n",
    "    for t in range(50):\n",
    "        out=sess.run([loss,updates],feed_dict=values)\n",
    "        loss_val=out\n",
    "        print(out)\n",
    "        loss_summary.append(loss_val)\n",
    "    plt.plot(range(50),loss_summary,'g-',label='loss_value')\n",
    "    plt.show()\n",
    "    print(loss_summary[0],loss_summary[50-1])\n",
    "    "
   ]
  },
  {
   "cell_type": "code",
   "execution_count": 27,
   "metadata": {},
   "outputs": [],
   "source": [
    "N,D,H=64,1000,100\n",
    "\n",
    "x=tf.placeholder(tf.float32,shape=(N,D))\n",
    "y=tf.placeholder(tf.float32,shape=(N,D))\n",
    "w1=tf.Variable(tf.random_normal((D,H)))\n",
    "w2=tf.Variable(tf.random_normal((H,D)))\n"
   ]
  },
  {
   "cell_type": "code",
   "execution_count": 28,
   "metadata": {},
   "outputs": [],
   "source": [
    "h=tf.maximum(tf.matmul(x,w1),0)\n",
    "y_pred=tf.matmul(h,w2)\n",
    "\n",
    "loss=tf.losses.mean_squared_error(y,y_pred)\n",
    "\n",
    "optimizer=tf.train.GradientDescentOptimizer(1e-5)\n",
    "updates=optimizer.minimize(loss)"
   ]
  },
  {
   "cell_type": "code",
   "execution_count": 29,
   "metadata": {},
   "outputs": [
    {
     "name": "stdout",
     "output_type": "stream",
     "text": [
      "[51308.348, None]\n",
      "[51259.29, None]\n",
      "[51210.402, None]\n",
      "[51161.684, None]\n",
      "[51112.887, None]\n",
      "[51064.355, None]\n",
      "[51015.6, None]\n",
      "[50967.176, None]\n",
      "[50918.707, None]\n",
      "[50870.395, None]\n",
      "[50822.066, None]\n",
      "[50773.77, None]\n",
      "[50725.61, None]\n",
      "[50677.53, None]\n",
      "[50629.555, None]\n",
      "[50581.574, None]\n",
      "[50533.703, None]\n",
      "[50485.93, None]\n",
      "[50438.14, None]\n",
      "[50390.37, None]\n",
      "[50342.79, None]\n",
      "[50295.227, None]\n",
      "[50247.715, None]\n",
      "[50200.355, None]\n",
      "[50153.074, None]\n",
      "[50105.77, None]\n",
      "[50058.668, None]\n",
      "[50011.418, None]\n",
      "[49964.48, None]\n",
      "[49917.39, None]\n",
      "[49870.523, None]\n",
      "[49823.656, None]\n",
      "[49776.8, None]\n",
      "[49730.047, None]\n",
      "[49683.465, None]\n",
      "[49636.85, None]\n",
      "[49590.293, None]\n",
      "[49543.83, None]\n",
      "[49497.42, None]\n",
      "[49451.09, None]\n",
      "[49404.9, None]\n",
      "[49358.656, None]\n",
      "[49312.55, None]\n",
      "[49266.516, None]\n",
      "[49220.457, None]\n",
      "[49174.473, None]\n",
      "[49128.617, None]\n",
      "[49082.918, None]\n",
      "[49037.168, None]\n",
      "[48991.51, None]\n"
     ]
    },
    {
     "data": {
      "image/png": "[encoded data removed]",
      "text/plain": [
       "<Figure size 432x288 with 1 Axes>"
      ]
     },
     "metadata": {
      "needs_background": "light"
     },
     "output_type": "display_data"
    },
    {
     "name": "stdout",
     "output_type": "stream",
     "text": [
      "[51308.348, None] [48991.51, None]\n"
     ]
    }
   ],
   "source": [
    "with tf.Session() as sess:\n",
    "    sess.run(tf.global_variables_initializer())\n",
    "    values={x:np.random.randn(N,D),\n",
    "            y:np.random.randn(N,D),}\n",
    "    loss_summary=[]\n",
    "\n",
    "    for t in range(50):\n",
    "        out=sess.run([loss,updates],feed_dict=values)\n",
    "        loss_val=out\n",
    "        print(out)\n",
    "        loss_summary.append(loss_val)\n",
    "    plt.plot(range(50),loss_summary,'g-',label='loss_value')\n",
    "    plt.show()\n",
    "    print(loss_summary[0],loss_summary[50-1])\n",
    "    "
   ]
  },
  {
   "cell_type": "code",
   "execution_count": 30,
   "metadata": {},
   "outputs": [],
   "source": [
    "N,D,H=64,1000,100\n",
    "\n",
    "x=tf.placeholder(tf.float32,shape=(N,D))\n",
    "y=tf.placeholder(tf.float32,shape=(N,D))\n"
   ]
  },
  {
   "cell_type": "code",
   "execution_count": 31,
   "metadata": {},
   "outputs": [],
   "source": [
    "init=tf.variance_scaling_initializer(2.0)\n",
    "h=tf.layers.dense(inputs=x,units=H,kernel_initializer=init,activation=tf.nn.relu)\n",
    "y_pred=tf.layers.dense(inputs=h,units=D,kernel_initializer=init)\n",
    "loss=tf.losses.mean_squared_error(y,y_pred)\n",
    "\n",
    "optimizer=tf.train.GradientDescentOptimizer(1e0)\n",
    "updates=optimizer.minimize(loss)"
   ]
  },
  {
   "cell_type": "code",
   "execution_count": 32,
   "metadata": {},
   "outputs": [
    {
     "name": "stdout",
     "output_type": "stream",
     "text": [
      "[2.9237971, None]\n",
      "[1.2101356, None]\n",
      "[1.0271722, None]\n",
      "[0.99014163, None]\n",
      "[0.98150367, None]\n",
      "[0.97928756, None]\n",
      "[0.97858524, None]\n",
      "[0.9782614, None]\n",
      "[0.9780468, None]\n",
      "[0.9778618, None]\n",
      "[0.9776883, None]\n",
      "[0.9775162, None]\n",
      "[0.97734535, None]\n",
      "[0.97717535, None]\n",
      "[0.97700685, None]\n",
      "[0.9768353, None]\n",
      "[0.9766671, None]\n",
      "[0.9764956, None]\n",
      "[0.9763271, None]\n",
      "[0.9761556, None]\n",
      "[0.97598654, None]\n",
      "[0.9758172, None]\n",
      "[0.97564805, None]\n",
      "[0.9754772, None]\n",
      "[0.9753068, None]\n",
      "[0.9751359, None]\n",
      "[0.97496665, None]\n",
      "[0.97479695, None]\n",
      "[0.9746265, None]\n",
      "[0.97445697, None]\n",
      "[0.9742855, None]\n",
      "[0.97411525, None]\n",
      "[0.97394484, None]\n",
      "[0.9737759, None]\n",
      "[0.97360635, None]\n",
      "[0.9734351, None]\n",
      "[0.9732646, None]\n",
      "[0.9730947, None]\n",
      "[0.9729237, None]\n",
      "[0.9727529, None]\n",
      "[0.97258276, None]\n",
      "[0.97241104, None]\n",
      "[0.97224206, None]\n",
      "[0.97207195, None]\n",
      "[0.9719007, None]\n",
      "[0.9717305, None]\n",
      "[0.97155887, None]\n",
      "[0.9713886, None]\n",
      "[0.9712183, None]\n",
      "[0.9710482, None]\n"
     ]
    },
    {
     "data": {
      "image/png": "[encoded data removed]",
      "text/plain": [
       "<Figure size 432x288 with 1 Axes>"
      ]
     },
     "metadata": {
      "needs_background": "light"
     },
     "output_type": "display_data"
    },
    {
     "name": "stdout",
     "output_type": "stream",
     "text": [
      "[2.9237971, None] [0.9710482, None]\n"
     ]
    }
   ],
   "source": [
    "with tf.Session() as sess:\n",
    "    sess.run(tf.global_variables_initializer())\n",
    "    values={x:np.random.randn(N,D),\n",
    "            y:np.random.randn(N,D),}\n",
    "    loss_summary=[]\n",
    "\n",
    "    for t in range(50):\n",
    "        out=sess.run([loss,updates],feed_dict=values)\n",
    "        loss_val=out\n",
    "        print(out)\n",
    "        loss_summary.append(loss_val)\n",
    "    plt.plot(range(50),loss_summary,'g-',label='loss_value')\n",
    "    plt.show()\n",
    "    print(loss_summary[0],loss_summary[50-1])\n",
    "    "
   ]
  },
  {
   "cell_type": "code",
   "execution_count": 33,
   "metadata": {},
   "outputs": [],
   "source": [
    "N,D,H=64,1000,100\n",
    "\n",
    "x=tf.placeholder(tf.float32,shape=(N,D))\n",
    "y=tf.placeholder(tf.float32,shape=(N,D))"
   ]
  },
  {
   "cell_type": "code",
   "execution_count": 34,
   "metadata": {},
   "outputs": [],
   "source": [
    "model=tf.keras.Sequential()\n",
    "model.add(tf.layers.Dense(H,input_shape=(D,),activation=tf.nn.relu))\n",
    "model.add(tf.layers.Dense(D))\n",
    "y_pred=model(x)\n",
    "loss=tf.losses.mean_squared_error(y,y_pred)\n",
    "optimizer=tf.train.GradientDescentOptimizer(1e0)\n",
    "updates=optimizer.minimize(loss)\n"
   ]
  },
  {
   "cell_type": "code",
   "execution_count": 35,
   "metadata": {},
   "outputs": [
    {
     "name": "stdout",
     "output_type": "stream",
     "text": [
      "[1.1623468, None]\n",
      "[1.125179, None]\n",
      "[1.09618, None]\n",
      "[1.0729342, None]\n",
      "[1.053927, None]\n",
      "[1.0381446, None]\n",
      "[1.0248903, None]\n",
      "[1.0136495, None]\n",
      "[1.0040221, None]\n",
      "[0.9957196, None]\n",
      "[0.9885096, None]\n",
      "[0.98217046, None]\n",
      "[0.9765398, None]\n",
      "[0.9715021, None]\n",
      "[0.96698356, None]\n",
      "[0.962903, None]\n",
      "[0.95917743, None]\n",
      "[0.9557535, None]\n",
      "[0.9525789, None]\n",
      "[0.94961077, None]\n",
      "[0.9468109, None]\n",
      "[0.94414806, None]\n",
      "[0.9415986, None]\n",
      "[0.93913424, None]\n",
      "[0.93674064, None]\n",
      "[0.9343958, None]\n",
      "[0.9321019, None]\n",
      "[0.9298387, None]\n",
      "[0.9275917, None]\n",
      "[0.92535824, None]\n",
      "[0.9231293, None]\n",
      "[0.9209039, None]\n",
      "[0.91867566, None]\n",
      "[0.91643596, None]\n",
      "[0.9141867, None]\n",
      "[0.9119214, None]\n",
      "[0.90963894, None]\n",
      "[0.907334, None]\n",
      "[0.9050075, None]\n",
      "[0.90264827, None]\n",
      "[0.9002599, None]\n",
      "[0.8978454, None]\n",
      "[0.8953969, None]\n",
      "[0.892919, None]\n",
      "[0.8904074, None]\n",
      "[0.88786113, None]\n",
      "[0.88526964, None]\n",
      "[0.8826459, None]\n",
      "[0.8799845, None]\n",
      "[0.8772834, None]\n"
     ]
    },
    {
     "data": {
      "image/png": "[encoded data removed]",
      "text/plain": [
       "<Figure size 432x288 with 1 Axes>"
      ]
     },
     "metadata": {
      "needs_background": "light"
     },
     "output_type": "display_data"
    },
    {
     "name": "stdout",
     "output_type": "stream",
     "text": [
      "[1.1623468, None] [0.8772834, None]\n"
     ]
    }
   ],
   "source": [
    "with tf.Session() as sess:\n",
    "    sess.run(tf.global_variables_initializer())\n",
    "    values={x:np.random.randn(N,D),\n",
    "            y:np.random.randn(N,D),}\n",
    "    loss_summary=[]\n",
    "    \n",
    "    for t in range(50):\n",
    "        out=sess.run([loss,updates],feed_dict=values)\n",
    "        loss_val=out\n",
    "        print(out)\n",
    "        loss_summary.append(loss_val)\n",
    "    plt.plot(range(50),loss_summary,'g-',label='loss_value')\n",
    "    plt.show()\n",
    "    print(loss_summary[0],loss_summary[50-1])\n",
    "    "
   ]
  },
  {
   "cell_type": "code",
   "execution_count": 36,
   "metadata": {},
   "outputs": [],
   "source": [
    "import tensorflow as tf\n",
    "import numpy as np\n",
    "import matplotlib.pyplot as plt"
   ]
  },
  {
   "cell_type": "code",
   "execution_count": 37,
   "metadata": {},
   "outputs": [],
   "source": [
    "N,D,H=64,1000,100"
   ]
  },
  {
   "cell_type": "code",
   "execution_count": 38,
   "metadata": {},
   "outputs": [],
   "source": [
    "model=tf.keras.Sequential()\n",
    "model.add(tf.layers.Dense(H,input_shape=(D,),activation=tf.nn.relu))\n",
    "model.add(tf.layers.Dense(D))\n",
    "model.compile(loss=tf.keras.losses.mean_squared_error, optimizer=tf.keras.optimizers.SGD(lr=1e0))"
   ]
  },
  {
   "cell_type": "code",
   "execution_count": 39,
   "metadata": {},
   "outputs": [],
   "source": [
    "x=np.random.randn(N,D)\n",
    "y=np.random.randn(N,D)"
   ]
  },
  {
   "cell_type": "code",
   "execution_count": 40,
   "metadata": {},
   "outputs": [
    {
     "name": "stdout",
     "output_type": "stream",
     "text": [
      "Epoch 1/50\n",
      "64/64 [==============================] - 1s 18ms/step - loss: 1.1743\n",
      "Epoch 2/50\n",
      "64/64 [==============================] - 0s 2ms/step - loss: 1.1365\n",
      "Epoch 3/50\n",
      "64/64 [==============================] - 0s 3ms/step - loss: 1.1070\n",
      "Epoch 4/50\n",
      "64/64 [==============================] - 0s 2ms/step - loss: 1.0834\n",
      "Epoch 5/50\n",
      "64/64 [==============================] - 0s 3ms/step - loss: 1.0640\n",
      "Epoch 6/50\n",
      "64/64 [==============================] - 0s 2ms/step - loss: 1.0480\n",
      "Epoch 7/50\n",
      "64/64 [==============================] - 0s 3ms/step - loss: 1.0346\n",
      "Epoch 8/50\n",
      "64/64 [==============================] - 0s 2ms/step - loss: 1.0231\n",
      "Epoch 9/50\n",
      "64/64 [==============================] - 0s 3ms/step - loss: 1.0133\n",
      "Epoch 10/50\n",
      "64/64 [==============================] - 0s 4ms/step - loss: 1.0048\n",
      "Epoch 11/50\n",
      "64/64 [==============================] - 0s 2ms/step - loss: 0.9974\n",
      "Epoch 12/50\n",
      "64/64 [==============================] - 0s 3ms/step - loss: 0.9909\n",
      "Epoch 13/50\n",
      "64/64 [==============================] - 0s 2ms/step - loss: 0.9852\n",
      "Epoch 14/50\n",
      "64/64 [==============================] - 0s 2ms/step - loss: 0.9800\n",
      "Epoch 15/50\n",
      "64/64 [==============================] - 0s 2ms/step - loss: 0.9754\n",
      "Epoch 16/50\n",
      "64/64 [==============================] - 0s 3ms/step - loss: 0.9712\n",
      "Epoch 17/50\n",
      "64/64 [==============================] - 0s 2ms/step - loss: 0.9673\n",
      "Epoch 18/50\n",
      "64/64 [==============================] - 0s 3ms/step - loss: 0.9638\n",
      "Epoch 19/50\n",
      "64/64 [==============================] - 0s 2ms/step - loss: 0.9605\n",
      "Epoch 20/50\n",
      "64/64 [==============================] - 0s 3ms/step - loss: 0.9575\n",
      "Epoch 21/50\n",
      "64/64 [==============================] - 0s 2ms/step - loss: 0.9546\n",
      "Epoch 22/50\n",
      "64/64 [==============================] - 0s 3ms/step - loss: 0.9518\n",
      "Epoch 23/50\n",
      "64/64 [==============================] - 0s 2ms/step - loss: 0.9492\n",
      "Epoch 24/50\n",
      "64/64 [==============================] - 0s 2ms/step - loss: 0.9467\n",
      "Epoch 25/50\n",
      "64/64 [==============================] - 0s 3ms/step - loss: 0.9442\n",
      "Epoch 26/50\n",
      "64/64 [==============================] - 0s 2ms/step - loss: 0.9418\n",
      "Epoch 27/50\n",
      "64/64 [==============================] - 0s 3ms/step - loss: 0.9395\n",
      "Epoch 28/50\n",
      "64/64 [==============================] - 0s 2ms/step - loss: 0.9372\n",
      "Epoch 29/50\n",
      "64/64 [==============================] - 0s 2ms/step - loss: 0.9350\n",
      "Epoch 30/50\n",
      "64/64 [==============================] - 0s 2ms/step - loss: 0.9327\n",
      "Epoch 31/50\n",
      "64/64 [==============================] - 0s 2ms/step - loss: 0.9305\n",
      "Epoch 32/50\n",
      "64/64 [==============================] - 0s 3ms/step - loss: 0.9283\n",
      "Epoch 33/50\n",
      "64/64 [==============================] - 0s 3ms/step - loss: 0.9261\n",
      "Epoch 34/50\n",
      "64/64 [==============================] - 0s 3ms/step - loss: 0.9239\n",
      "Epoch 35/50\n",
      "64/64 [==============================] - 0s 2ms/step - loss: 0.9216\n",
      "Epoch 36/50\n",
      "64/64 [==============================] - 0s 3ms/step - loss: 0.9194\n",
      "Epoch 37/50\n",
      "64/64 [==============================] - 0s 3ms/step - loss: 0.9171\n",
      "Epoch 38/50\n",
      "64/64 [==============================] - 0s 3ms/step - loss: 0.9148\n",
      "Epoch 39/50\n",
      "64/64 [==============================] - 0s 3ms/step - loss: 0.9125\n",
      "Epoch 40/50\n",
      "64/64 [==============================] - 0s 2ms/step - loss: 0.9102\n",
      "Epoch 41/50\n",
      "64/64 [==============================] - 0s 2ms/step - loss: 0.9079\n",
      "Epoch 42/50\n",
      "64/64 [==============================] - 0s 3ms/step - loss: 0.9055\n",
      "Epoch 43/50\n",
      "64/64 [==============================] - 0s 3ms/step - loss: 0.9031\n",
      "Epoch 44/50\n",
      "64/64 [==============================] - 0s 2ms/step - loss: 0.9006\n",
      "Epoch 45/50\n",
      "64/64 [==============================] - 0s 3ms/step - loss: 0.8981\n",
      "Epoch 46/50\n",
      "64/64 [==============================] - 0s 2ms/step - loss: 0.8956\n",
      "Epoch 47/50\n",
      "64/64 [==============================] - 0s 3ms/step - loss: 0.8931\n",
      "Epoch 48/50\n",
      "64/64 [==============================] - 0s 4ms/step - loss: 0.8905\n",
      "Epoch 49/50\n",
      "64/64 [==============================] - 0s 4ms/step - loss: 0.8879\n",
      "Epoch 50/50\n",
      "64/64 [==============================] - 0s 2ms/step - loss: 0.8852\n"
     ]
    }
   ],
   "source": [
    "history=model.fit(x,y,epochs=50,batch_size=N)\n"
   ]
  },
  {
   "cell_type": "code",
   "execution_count": null,
   "metadata": {},
   "outputs": [],
   "source": []
  }
 ],
 "metadata": {
  "kernelspec": {
   "display_name": "NNlab",
   "language": "python",
   "name": "nnlab"
  },
  "language_info": {
   "codemirror_mode": {
    "name": "ipython",
    "version": 3
   },
   "file_extension": ".py",
   "mimetype": "text/x-python",
   "name": "python",
   "nbconvert_exporter": "python",
   "pygments_lexer": "ipython3",
   "version": "3.6.6"
  }
 },
 "nbformat": 4,
 "nbformat_minor": 2
}
